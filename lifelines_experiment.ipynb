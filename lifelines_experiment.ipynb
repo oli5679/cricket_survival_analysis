{
 "cells": [
  {
   "cell_type": "markdown",
   "metadata": {},
   "source": [
    "# Survival Analysis - test cricket"
   ]
  },
  {
   "cell_type": "markdown",
   "metadata": {},
   "source": [
    "### Setup and loading data"
   ]
  },
  {
   "cell_type": "code",
   "execution_count": 1,
   "metadata": {},
   "outputs": [],
   "source": [
    "import lifelines\n",
    "import pandas as pd\n",
    "import os\n",
    "import matplotlib.pyplot as plt\n",
    "%matplotlib inline\n"
   ]
  },
  {
   "cell_type": "markdown",
   "metadata": {},
   "source": [
    "Load data from https://cricsheet.org/"
   ]
  },
  {
   "cell_type": "code",
   "execution_count": 2,
   "metadata": {},
   "outputs": [],
   "source": [
    "files = os.listdir('test_csv')\n",
    "files = [f for f in files if '.csv' in f]"
   ]
  },
  {
   "cell_type": "code",
   "execution_count": null,
   "metadata": {},
   "outputs": [],
   "source": [
    "cric_df = pd.DataFrame()\n",
    "cric_cols = ['type','innings','ball','team','bat_1','bat_2','bowl','runs','byes','wicket','player_out']\n",
    "for i, file in enumerate(files):\n",
    "    df = pd.read_csv('test_csv/'+file, error_bad_lines=False,names=cric_cols)\n",
    "    df['match_id'] = i\n",
    "    cric_df=cric_df.append(df,sort=False)\n",
    "    "
   ]
  },
  {
   "cell_type": "markdown",
   "metadata": {},
   "source": [
    "For now, drop match metadata (note this could be used to generate features)."
   ]
  },
  {
   "cell_type": "code",
   "execution_count": null,
   "metadata": {},
   "outputs": [],
   "source": [
    "\n",
    "cric_df = cric_df[cric_df['type']=='ball']\n",
    "cric_df.head()\n",
    "\n"
   ]
  },
  {
   "cell_type": "markdown",
   "metadata": {},
   "source": [
    "### Calculating innings-level stats\n",
    "\n",
    "Was the player out? For now ignoring runouts (maybe better anyway)?"
   ]
  },
  {
   "cell_type": "code",
   "execution_count": null,
   "metadata": {},
   "outputs": [],
   "source": [
    "cric_df['is_out']=(cric_df['player_out']==cric_df['bat_1'])\n"
   ]
  },
  {
   "cell_type": "markdown",
   "metadata": {},
   "source": [
    "What is the first ball faced by the player? (so we can find their place in batting order..)."
   ]
  },
  {
   "cell_type": "code",
   "execution_count": null,
   "metadata": {},
   "outputs": [],
   "source": [
    "cric_df['first_ball'] = cric_df.index"
   ]
  },
  {
   "cell_type": "markdown",
   "metadata": {},
   "source": [
    "Aggregate to innings-level granularity"
   ]
  },
  {
   "cell_type": "code",
   "execution_count": null,
   "metadata": {},
   "outputs": [],
   "source": [
    "innings_totals = cric_df.groupby(['team','match_id','innings','bat_1']).agg({'runs':'sum', \n",
    "                         'is_out':'sum', \n",
    "                         'first_ball':'min'})\n"
   ]
  },
  {
   "cell_type": "markdown",
   "metadata": {},
   "source": [
    "What number did the player bat? Calculated by using rank of bat_number, by innings."
   ]
  },
  {
   "cell_type": "code",
   "execution_count": null,
   "metadata": {},
   "outputs": [],
   "source": [
    "innings_totals['bat_number'] = innings_totals.groupby(['team','match_id','innings']).rank()['first_ball']\n",
    "\n",
    "innings_totals.reset_index(inplace=True)\n",
    "innings_totals['innings']= pd.to_numeric(innings_totals['innings'])\n",
    "\n",
    "innings_totals.head()"
   ]
  },
  {
   "cell_type": "markdown",
   "metadata": {},
   "source": [
    " Simple histograms"
   ]
  },
  {
   "cell_type": "code",
   "execution_count": null,
   "metadata": {},
   "outputs": [],
   "source": [
    "innings_totals['runs'].hist()\n"
   ]
  },
  {
   "cell_type": "code",
   "execution_count": null,
   "metadata": {},
   "outputs": [],
   "source": [
    "innings_totals['is_out'].hist()"
   ]
  },
  {
   "cell_type": "markdown",
   "metadata": {},
   "source": [
    "### KMF model"
   ]
  },
  {
   "cell_type": "code",
   "execution_count": null,
   "metadata": {},
   "outputs": [],
   "source": [
    "kmf = lifelines.KaplanMeierFitter()\n",
    "kmf.fit(innings_totals['runs'], event_observed=innings_totals['is_out'], label=\"All players Kaplan Meier\")"
   ]
  },
  {
   "cell_type": "markdown",
   "metadata": {},
   "source": [
    "Plotting the output"
   ]
  },
  {
   "cell_type": "code",
   "execution_count": null,
   "metadata": {
    "scrolled": true
   },
   "outputs": [],
   "source": [
    "kmf.survival_function_\n",
    "kmf.median_\n",
    "kmf.plot()"
   ]
  },
  {
   "cell_type": "markdown",
   "metadata": {},
   "source": [
    "Comparing survival curve for different innings"
   ]
  },
  {
   "cell_type": "code",
   "execution_count": null,
   "metadata": {},
   "outputs": [],
   "source": [
    "\n",
    "ax = plt.subplot(111)\n",
    "\n",
    "for i in range(1,5):\n",
    "    data = innings_totals[innings_totals[\"innings\"] == i]\n",
    "    kmf.fit(data['runs'], event_observed=data['is_out'], label=\"Innings: {}\".format(i))\n",
    "    kmf.plot(ax=ax, ci_force_lines=True)\n",
    "    \n",
    "plt.ylim(0, 1);\n",
    "plt.title(\"Survival for different innings\");"
   ]
  },
  {
   "cell_type": "markdown",
   "metadata": {},
   "source": [
    "And for different batting numbers"
   ]
  },
  {
   "cell_type": "code",
   "execution_count": null,
   "metadata": {},
   "outputs": [],
   "source": [
    "ax = plt.subplot(111)\n",
    "\n",
    "for i in range(1,5):\n",
    "    data = innings_totals[innings_totals[\"bat_number\"] == i]\n",
    "    kmf.fit(data['runs'], event_observed=data['is_out'], label=\"Batter: {}\".format(i))\n",
    "    kmf.plot(ax=ax, ci_force_lines=True)\n",
    "    \n",
    "plt.ylim(0, 1);\n",
    "plt.title(\"Survival for batsmen 1-4 \");"
   ]
  },
  {
   "cell_type": "code",
   "execution_count": null,
   "metadata": {},
   "outputs": [],
   "source": [
    "ax = plt.subplot(111)\n",
    "\n",
    "for i in range(5,9):\n",
    "    data = innings_totals[innings_totals[\"bat_number\"] == i]\n",
    "    kmf.fit(data['runs'], event_observed=data['is_out'], label=\"Bat Number: {}\".format(i))\n",
    "    kmf.plot(ax=ax, ci_force_lines=True)\n",
    "    \n",
    "plt.ylim(0, 1);\n",
    "plt.title(\"Survival for batsmen 5-8 \");"
   ]
  },
  {
   "cell_type": "code",
   "execution_count": null,
   "metadata": {},
   "outputs": [],
   "source": [
    "ax = plt.subplot(111)\n",
    "\n",
    "for i in range(9,12):\n",
    "    data = innings_totals[innings_totals[\"bat_number\"] == i]\n",
    "    kmf.fit(data['runs'], event_observed=data['is_out'], label=\"Bat Number: {}\".format(i))\n",
    "    kmf.plot(ax=ax, ci_force_lines=True)\n",
    "    \n",
    "plt.ylim(0, 1);\n",
    "plt.title(\"Survival for batsmen 9-11 \");"
   ]
  },
  {
   "cell_type": "markdown",
   "metadata": {},
   "source": [
    "### CPH model"
   ]
  },
  {
   "cell_type": "markdown",
   "metadata": {},
   "source": [
    "Train model"
   ]
  },
  {
   "cell_type": "code",
   "execution_count": null,
   "metadata": {},
   "outputs": [],
   "source": [
    "cph = lifelines.CoxPHFitter()\n",
    "\n",
    "cox_data = innings_totals[['innings','bat_number','runs','is_out']]\n",
    "\n",
    "cox_data = pd.get_dummies(cox_data)\n",
    "cph.fit(df=cox_data, duration_col='runs', event_col='is_out')\n"
   ]
  },
  {
   "cell_type": "markdown",
   "metadata": {},
   "source": [
    "Evaluate outcomes"
   ]
  },
  {
   "cell_type": "code",
   "execution_count": null,
   "metadata": {},
   "outputs": [],
   "source": [
    "cph.plot()"
   ]
  },
  {
   "cell_type": "code",
   "execution_count": null,
   "metadata": {},
   "outputs": [],
   "source": [
    "cph.print_summary()"
   ]
  },
  {
   "cell_type": "code",
   "execution_count": null,
   "metadata": {},
   "outputs": [],
   "source": [
    "X = cox_data.drop(['runs', 'is_out'], axis=1)\n",
    "d = {'innings': [1, 1,4], 'bat_number': [1, 3,10]}\n",
    "test_cases=pd.DataFrame(data=d,index=['innings 1 - number 1','innings 2 - number - 3', 'innings 4 - number 10']);test_cases"
   ]
  },
  {
   "cell_type": "code",
   "execution_count": null,
   "metadata": {},
   "outputs": [],
   "source": [
    "Predict for specific outcomes / scores"
   ]
  },
  {
   "cell_type": "code",
   "execution_count": null,
   "metadata": {},
   "outputs": [],
   "source": [
    "cph.predict_survival_function(test_cases).plot()"
   ]
  },
  {
   "cell_type": "code",
   "execution_count": null,
   "metadata": {},
   "outputs": [],
   "source": []
  },
  {
   "cell_type": "code",
   "execution_count": null,
   "metadata": {},
   "outputs": [],
   "source": []
  }
 ],
 "metadata": {
  "kernelspec": {
   "display_name": "Python 3",
   "language": "python",
   "name": "python3"
  },
  "language_info": {
   "codemirror_mode": {
    "name": "ipython",
    "version": 3
   },
   "file_extension": ".py",
   "mimetype": "text/x-python",
   "name": "python",
   "nbconvert_exporter": "python",
   "pygments_lexer": "ipython3",
   "version": "3.6.5"
  }
 },
 "nbformat": 4,
 "nbformat_minor": 2
}
