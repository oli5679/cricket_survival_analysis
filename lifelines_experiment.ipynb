{
 "cells": [
  {
   "cell_type": "markdown",
   "metadata": {},
   "source": [
    "# Survival Analysis - test cricket"
   ]
  },
  {
   "cell_type": "markdown",
   "metadata": {},
   "source": [
    "### Setup and loading data"
   ]
  },
  {
   "cell_type": "code",
   "execution_count": 1,
   "metadata": {},
   "outputs": [],
   "source": [
    "import lifelines\n",
    "import pandas as pd\n",
    "import os\n",
    "import matplotlib.pyplot as plt\n",
    "%matplotlib inline\n"
   ]
  },
  {
   "cell_type": "markdown",
   "metadata": {},
   "source": [
    "Load data from https://cricsheet.org/"
   ]
  },
  {
   "cell_type": "code",
   "execution_count": 2,
   "metadata": {},
   "outputs": [],
   "source": [
    "files = os.listdir('test_csv')\n",
    "files = [f for f in files if '.csv' in f]"
   ]
  },
  {
   "cell_type": "markdown",
   "metadata": {},
   "source": [
    "This is the expensive section. Run on subset of files for simpler "
   ]
  },
  {
   "cell_type": "code",
   "execution_count": 3,
   "metadata": {},
   "outputs": [],
   "source": [
    "cric_df = pd.DataFrame()\n",
    "cric_cols = ['type','innings','ball','team','bat_1','bat_2','bowl','runs','byes','wicket','player_out']\n",
    "for i, file in enumerate(files):\n",
    "    df = pd.read_csv('test_csv/'+file, error_bad_lines=False,names=cric_cols)\n",
    "    df['match_id'] = i\n",
    "    cric_df=cric_df.append(df,sort=False)\n",
    "    "
   ]
  },
  {
   "cell_type": "markdown",
   "metadata": {},
   "source": [
    "For now, drop match metadata (note this could be used to generate features)."
   ]
  },
  {
   "cell_type": "code",
   "execution_count": 4,
   "metadata": {},
   "outputs": [
    {
     "data": {
      "text/html": [
       "<div>\n",
       "<style scoped>\n",
       "    .dataframe tbody tr th:only-of-type {\n",
       "        vertical-align: middle;\n",
       "    }\n",
       "\n",
       "    .dataframe tbody tr th {\n",
       "        vertical-align: top;\n",
       "    }\n",
       "\n",
       "    .dataframe thead th {\n",
       "        text-align: right;\n",
       "    }\n",
       "</style>\n",
       "<table border=\"1\" class=\"dataframe\">\n",
       "  <thead>\n",
       "    <tr style=\"text-align: right;\">\n",
       "      <th></th>\n",
       "      <th>type</th>\n",
       "      <th>innings</th>\n",
       "      <th>ball</th>\n",
       "      <th>team</th>\n",
       "      <th>bat_1</th>\n",
       "      <th>bat_2</th>\n",
       "      <th>bowl</th>\n",
       "      <th>runs</th>\n",
       "      <th>byes</th>\n",
       "      <th>wicket</th>\n",
       "      <th>player_out</th>\n",
       "      <th>match_id</th>\n",
       "    </tr>\n",
       "  </thead>\n",
       "  <tbody>\n",
       "    <tr>\n",
       "      <th>24</th>\n",
       "      <td>ball</td>\n",
       "      <td>1</td>\n",
       "      <td>0.1</td>\n",
       "      <td>South Africa</td>\n",
       "      <td>SC Cook</td>\n",
       "      <td>D Elgar</td>\n",
       "      <td>MA Starc</td>\n",
       "      <td>0.0</td>\n",
       "      <td>0.0</td>\n",
       "      <td>NaN</td>\n",
       "      <td>NaN</td>\n",
       "      <td>0</td>\n",
       "    </tr>\n",
       "    <tr>\n",
       "      <th>25</th>\n",
       "      <td>ball</td>\n",
       "      <td>1</td>\n",
       "      <td>0.2</td>\n",
       "      <td>South Africa</td>\n",
       "      <td>SC Cook</td>\n",
       "      <td>D Elgar</td>\n",
       "      <td>MA Starc</td>\n",
       "      <td>0.0</td>\n",
       "      <td>0.0</td>\n",
       "      <td>NaN</td>\n",
       "      <td>NaN</td>\n",
       "      <td>0</td>\n",
       "    </tr>\n",
       "    <tr>\n",
       "      <th>26</th>\n",
       "      <td>ball</td>\n",
       "      <td>1</td>\n",
       "      <td>0.3</td>\n",
       "      <td>South Africa</td>\n",
       "      <td>SC Cook</td>\n",
       "      <td>D Elgar</td>\n",
       "      <td>MA Starc</td>\n",
       "      <td>0.0</td>\n",
       "      <td>0.0</td>\n",
       "      <td>NaN</td>\n",
       "      <td>NaN</td>\n",
       "      <td>0</td>\n",
       "    </tr>\n",
       "    <tr>\n",
       "      <th>27</th>\n",
       "      <td>ball</td>\n",
       "      <td>1</td>\n",
       "      <td>0.4</td>\n",
       "      <td>South Africa</td>\n",
       "      <td>SC Cook</td>\n",
       "      <td>D Elgar</td>\n",
       "      <td>MA Starc</td>\n",
       "      <td>0.0</td>\n",
       "      <td>0.0</td>\n",
       "      <td>caught</td>\n",
       "      <td>SC Cook</td>\n",
       "      <td>0</td>\n",
       "    </tr>\n",
       "    <tr>\n",
       "      <th>28</th>\n",
       "      <td>ball</td>\n",
       "      <td>1</td>\n",
       "      <td>0.5</td>\n",
       "      <td>South Africa</td>\n",
       "      <td>HM Amla</td>\n",
       "      <td>D Elgar</td>\n",
       "      <td>MA Starc</td>\n",
       "      <td>0.0</td>\n",
       "      <td>0.0</td>\n",
       "      <td>NaN</td>\n",
       "      <td>NaN</td>\n",
       "      <td>0</td>\n",
       "    </tr>\n",
       "  </tbody>\n",
       "</table>\n",
       "</div>"
      ],
      "text/plain": [
       "    type innings ball          team    bat_1    bat_2      bowl  runs  byes  \\\n",
       "24  ball       1  0.1  South Africa  SC Cook  D Elgar  MA Starc   0.0   0.0   \n",
       "25  ball       1  0.2  South Africa  SC Cook  D Elgar  MA Starc   0.0   0.0   \n",
       "26  ball       1  0.3  South Africa  SC Cook  D Elgar  MA Starc   0.0   0.0   \n",
       "27  ball       1  0.4  South Africa  SC Cook  D Elgar  MA Starc   0.0   0.0   \n",
       "28  ball       1  0.5  South Africa  HM Amla  D Elgar  MA Starc   0.0   0.0   \n",
       "\n",
       "    wicket player_out  match_id  \n",
       "24     NaN        NaN         0  \n",
       "25     NaN        NaN         0  \n",
       "26     NaN        NaN         0  \n",
       "27  caught    SC Cook         0  \n",
       "28     NaN        NaN         0  "
      ]
     },
     "execution_count": 4,
     "metadata": {},
     "output_type": "execute_result"
    }
   ],
   "source": [
    "\n",
    "cric_df = cric_df[cric_df['type']=='ball']\n",
    "cric_df.head()\n",
    "\n"
   ]
  },
  {
   "cell_type": "markdown",
   "metadata": {},
   "source": [
    "### Calculating innings-level stats\n",
    "\n",
    "Was the player out? For now ignoring runouts (maybe better anyway)?"
   ]
  },
  {
   "cell_type": "code",
   "execution_count": 5,
   "metadata": {},
   "outputs": [],
   "source": [
    "cric_df['is_out']=(cric_df['player_out']==cric_df['bat_1'])\n"
   ]
  },
  {
   "cell_type": "markdown",
   "metadata": {},
   "source": [
    "What is the first ball faced by the player? (so we can find their place in batting order..)."
   ]
  },
  {
   "cell_type": "code",
   "execution_count": 6,
   "metadata": {},
   "outputs": [],
   "source": [
    "cric_df['first_ball'] = cric_df.index"
   ]
  },
  {
   "cell_type": "markdown",
   "metadata": {},
   "source": [
    "Aggregate to innings-level granularity"
   ]
  },
  {
   "cell_type": "code",
   "execution_count": 7,
   "metadata": {},
   "outputs": [],
   "source": [
    "innings_totals = cric_df.groupby(['team','match_id','innings','bat_1']).agg({'runs':'sum', \n",
    "                         'is_out':'sum', \n",
    "                         'first_ball':'min'})\n"
   ]
  },
  {
   "cell_type": "markdown",
   "metadata": {},
   "source": [
    "What number did the player bat? Calculated by using rank of bat_number, by innings."
   ]
  },
  {
   "cell_type": "code",
   "execution_count": 8,
   "metadata": {},
   "outputs": [
    {
     "data": {
      "text/html": [
       "<div>\n",
       "<style scoped>\n",
       "    .dataframe tbody tr th:only-of-type {\n",
       "        vertical-align: middle;\n",
       "    }\n",
       "\n",
       "    .dataframe tbody tr th {\n",
       "        vertical-align: top;\n",
       "    }\n",
       "\n",
       "    .dataframe thead th {\n",
       "        text-align: right;\n",
       "    }\n",
       "</style>\n",
       "<table border=\"1\" class=\"dataframe\">\n",
       "  <thead>\n",
       "    <tr style=\"text-align: right;\">\n",
       "      <th></th>\n",
       "      <th>team</th>\n",
       "      <th>match_id</th>\n",
       "      <th>innings</th>\n",
       "      <th>bat_1</th>\n",
       "      <th>runs</th>\n",
       "      <th>is_out</th>\n",
       "      <th>first_ball</th>\n",
       "      <th>bat_number</th>\n",
       "    </tr>\n",
       "  </thead>\n",
       "  <tbody>\n",
       "    <tr>\n",
       "      <th>0</th>\n",
       "      <td>Australia</td>\n",
       "      <td>0</td>\n",
       "      <td>2</td>\n",
       "      <td>AC Voges</td>\n",
       "      <td>27.0</td>\n",
       "      <td>True</td>\n",
       "      <td>660</td>\n",
       "      <td>5.0</td>\n",
       "    </tr>\n",
       "    <tr>\n",
       "      <th>1</th>\n",
       "      <td>Australia</td>\n",
       "      <td>0</td>\n",
       "      <td>2</td>\n",
       "      <td>DA Warner</td>\n",
       "      <td>97.0</td>\n",
       "      <td>True</td>\n",
       "      <td>408</td>\n",
       "      <td>1.0</td>\n",
       "    </tr>\n",
       "    <tr>\n",
       "      <th>2</th>\n",
       "      <td>Australia</td>\n",
       "      <td>0</td>\n",
       "      <td>2</td>\n",
       "      <td>JR Hazlewood</td>\n",
       "      <td>4.0</td>\n",
       "      <td>True</td>\n",
       "      <td>819</td>\n",
       "      <td>10.0</td>\n",
       "    </tr>\n",
       "    <tr>\n",
       "      <th>3</th>\n",
       "      <td>Australia</td>\n",
       "      <td>0</td>\n",
       "      <td>2</td>\n",
       "      <td>MA Starc</td>\n",
       "      <td>0.0</td>\n",
       "      <td>True</td>\n",
       "      <td>779</td>\n",
       "      <td>8.0</td>\n",
       "    </tr>\n",
       "    <tr>\n",
       "      <th>4</th>\n",
       "      <td>Australia</td>\n",
       "      <td>0</td>\n",
       "      <td>2</td>\n",
       "      <td>MR Marsh</td>\n",
       "      <td>0.0</td>\n",
       "      <td>True</td>\n",
       "      <td>693</td>\n",
       "      <td>6.0</td>\n",
       "    </tr>\n",
       "  </tbody>\n",
       "</table>\n",
       "</div>"
      ],
      "text/plain": [
       "        team  match_id  innings         bat_1  runs  is_out  first_ball  \\\n",
       "0  Australia         0        2      AC Voges  27.0    True         660   \n",
       "1  Australia         0        2     DA Warner  97.0    True         408   \n",
       "2  Australia         0        2  JR Hazlewood   4.0    True         819   \n",
       "3  Australia         0        2      MA Starc   0.0    True         779   \n",
       "4  Australia         0        2      MR Marsh   0.0    True         693   \n",
       "\n",
       "   bat_number  \n",
       "0         5.0  \n",
       "1         1.0  \n",
       "2        10.0  \n",
       "3         8.0  \n",
       "4         6.0  "
      ]
     },
     "execution_count": 8,
     "metadata": {},
     "output_type": "execute_result"
    }
   ],
   "source": [
    "innings_totals['bat_number'] = innings_totals.groupby(['team','match_id','innings']).rank()['first_ball']\n",
    "\n",
    "innings_totals.reset_index(inplace=True)\n",
    "innings_totals['innings']= pd.to_numeric(innings_totals['innings'])\n",
    "\n",
    "innings_totals.head()"
   ]
  },
  {
   "cell_type": "markdown",
   "metadata": {},
   "source": [
    " Simple histograms"
   ]
  },
  {
   "cell_type": "code",
   "execution_count": 9,
   "metadata": {},
   "outputs": [
    {
     "data": {
      "text/plain": [
       "<matplotlib.axes._subplots.AxesSubplot at 0x112dd1438>"
      ]
     },
     "execution_count": 9,
     "metadata": {},
     "output_type": "execute_result"
    },
    {
     "data": {
      "image/png": "[encoded data removed]",
      "text/plain": [
       "<Figure size 432x288 with 1 Axes>"
      ]
     },
     "metadata": {},
     "output_type": "display_data"
    }
   ],
   "source": [
    "innings_totals['runs'].hist()\n"
   ]
  },
  {
   "cell_type": "code",
   "execution_count": 10,
   "metadata": {},
   "outputs": [
    {
     "data": {
      "text/plain": [
       "<matplotlib.axes._subplots.AxesSubplot at 0x111e93048>"
      ]
     },
     "execution_count": 10,
     "metadata": {},
     "output_type": "execute_result"
    },
    {
     "data": {
      "image/png": "[encoded data removed]",
      "text/plain": [
       "<Figure size 432x288 with 1 Axes>"
      ]
     },
     "metadata": {},
     "output_type": "display_data"
    }
   ],
   "source": [
    "innings_totals['is_out'].hist()"
   ]
  },
  {
   "cell_type": "markdown",
   "metadata": {},
   "source": [
    "### KMF model"
   ]
  },
  {
   "cell_type": "code",
   "execution_count": 11,
   "metadata": {},
   "outputs": [
    {
     "data": {
      "text/plain": [
       "<lifelines.KaplanMeierFitter: fitted with 14620 observations, 1987 censored>"
      ]
     },
     "execution_count": 11,
     "metadata": {},
     "output_type": "execute_result"
    }
   ],
   "source": [
    "kmf = lifelines.KaplanMeierFitter()\n",
    "kmf.fit(innings_totals['runs'], event_observed=innings_totals['is_out'], label=\"All players Kaplan Meier\")"
   ]
  },
  {
   "cell_type": "markdown",
   "metadata": {},
   "source": [
    "Plotting the output"
   ]
  },
  {
   "cell_type": "code",
   "execution_count": 12,
   "metadata": {
    "scrolled": true
   },
   "outputs": [
    {
     "data": {
      "text/plain": [
       "<matplotlib.axes._subplots.AxesSubplot at 0x11288b1d0>"
      ]
     },
     "execution_count": 12,
     "metadata": {},
     "output_type": "execute_result"
    },
    {
     "data": {
      "image/png": "[encoded data removed]",
      "text/plain": [
       "<Figure size 432x288 with 1 Axes>"
      ]
     },
     "metadata": {},
     "output_type": "display_data"
    }
   ],
   "source": [
    "kmf.survival_function_\n",
    "kmf.median_\n",
    "kmf.plot()"
   ]
  },
  {
   "cell_type": "markdown",
   "metadata": {},
   "source": [
    "Comparing survival curve for different innings"
   ]
  },
  {
   "cell_type": "code",
   "execution_count": 13,
   "metadata": {},
   "outputs": [
    {
     "data": {
      "image/png": "[encoded data removed]",
      "text/plain": [
       "<Figure size 432x288 with 1 Axes>"
      ]
     },
     "metadata": {},
     "output_type": "display_data"
    }
   ],
   "source": [
    "\n",
    "ax = plt.subplot(111)\n",
    "\n",
    "for i in range(1,5):\n",
    "    data = innings_totals[innings_totals[\"innings\"] == i]\n",
    "    kmf.fit(data['runs'], event_observed=data['is_out'], label=\"Innings: {}\".format(i))\n",
    "    kmf.plot(ax=ax, ci_force_lines=True)\n",
    "    \n",
    "plt.ylim(0, 1);\n",
    "plt.title(\"Survival for different innings\");"
   ]
  },
  {
   "cell_type": "markdown",
   "metadata": {},
   "source": [
    "And for different batting numbers"
   ]
  },
  {
   "cell_type": "code",
   "execution_count": 14,
   "metadata": {},
   "outputs": [
    {
     "data": {
      "image/png": "[encoded data removed]",
      "text/plain": [
       "<Figure size 432x288 with 1 Axes>"
      ]
     },
     "metadata": {},
     "output_type": "display_data"
    }
   ],
   "source": [
    "ax = plt.subplot(111)\n",
    "\n",
    "for i in range(1,5):\n",
    "    data = innings_totals[innings_totals[\"bat_number\"] == i]\n",
    "    kmf.fit(data['runs'], event_observed=data['is_out'], label=\"Batter: {}\".format(i))\n",
    "    kmf.plot(ax=ax, ci_force_lines=True)\n",
    "    \n",
    "plt.ylim(0, 1);\n",
    "plt.title(\"Survival for batsmen 1-4 \");"
   ]
  },
  {
   "cell_type": "code",
   "execution_count": 15,
   "metadata": {},
   "outputs": [
    {
     "data": {
      "image/png": "[encoded data removed]",
      "text/plain": [
       "<Figure size 432x288 with 1 Axes>"
      ]
     },
     "metadata": {},
     "output_type": "display_data"
    }
   ],
   "source": [
    "ax = plt.subplot(111)\n",
    "\n",
    "for i in range(5,9):\n",
    "    data = innings_totals[innings_totals[\"bat_number\"] == i]\n",
    "    kmf.fit(data['runs'], event_observed=data['is_out'], label=\"Bat Number: {}\".format(i))\n",
    "    kmf.plot(ax=ax, ci_force_lines=True)\n",
    "    \n",
    "plt.ylim(0, 1);\n",
    "plt.title(\"Survival for batsmen 5-8 \");"
   ]
  },
  {
   "cell_type": "code",
   "execution_count": 16,
   "metadata": {},
   "outputs": [
    {
     "data": {
      "image/png": "[encoded data removed]",
      "text/plain": [
       "<Figure size 432x288 with 1 Axes>"
      ]
     },
     "metadata": {},
     "output_type": "display_data"
    }
   ],
   "source": [
    "ax = plt.subplot(111)\n",
    "\n",
    "for i in range(9,12):\n",
    "    data = innings_totals[innings_totals[\"bat_number\"] == i]\n",
    "    kmf.fit(data['runs'], event_observed=data['is_out'], label=\"Bat Number: {}\".format(i))\n",
    "    kmf.plot(ax=ax, ci_force_lines=True)\n",
    "    \n",
    "plt.ylim(0, 1);\n",
    "plt.title(\"Survival for batsmen 9-11 \");"
   ]
  },
  {
   "cell_type": "markdown",
   "metadata": {},
   "source": [
    "### CPH model"
   ]
  },
  {
   "cell_type": "markdown",
   "metadata": {},
   "source": [
    "Train model"
   ]
  },
  {
   "cell_type": "code",
   "execution_count": 17,
   "metadata": {},
   "outputs": [
    {
     "data": {
      "text/plain": [
       "<lifelines.CoxPHFitter: fitted with 14620 observations, 1987 censored>"
      ]
     },
     "execution_count": 17,
     "metadata": {},
     "output_type": "execute_result"
    }
   ],
   "source": [
    "cph = lifelines.CoxPHFitter()\n",
    "\n",
    "cox_data = innings_totals[['innings','bat_number','runs','is_out']]\n",
    "\n",
    "cox_data = pd.get_dummies(cox_data)\n",
    "cph.fit(df=cox_data, duration_col='runs', event_col='is_out')\n"
   ]
  },
  {
   "cell_type": "markdown",
   "metadata": {},
   "source": [
    "Evaluate outcomes"
   ]
  },
  {
   "cell_type": "code",
   "execution_count": 18,
   "metadata": {},
   "outputs": [
    {
     "data": {
      "text/plain": [
       "<matplotlib.axes._subplots.AxesSubplot at 0x113b6e4e0>"
      ]
     },
     "execution_count": 18,
     "metadata": {},
     "output_type": "execute_result"
    },
    {
     "data": {
      "image/png": "[encoded data removed]",
      "text/plain": [
       "<Figure size 432x288 with 1 Axes>"
      ]
     },
     "metadata": {},
     "output_type": "display_data"
    }
   ],
   "source": [
    "cph.plot()"
   ]
  },
  {
   "cell_type": "code",
   "execution_count": 19,
   "metadata": {},
   "outputs": [
    {
     "name": "stdout",
     "output_type": "stream",
     "text": [
      "n=14620, number of events=12633\n",
      "\n",
      "             coef  exp(coef)  se(coef)       z      p  lower 0.95  upper 0.95     \n",
      "innings    0.0814     1.0849    0.0086  9.4215 0.0000      0.0645      0.0984  ***\n",
      "bat_number 0.0864     1.0902    0.0034 25.7555 0.0000      0.0798      0.0930  ***\n",
      "---\n",
      "Signif. codes:  0 '***' 0.001 '**' 0.01 '*' 0.05 '.' 0.1 ' ' 1 \n",
      "\n",
      "Concordance = 0.577\n",
      "Likelihood ratio test = 713.547 on 2 df, p=0.00000\n"
     ]
    }
   ],
   "source": [
    "cph.print_summary()"
   ]
  },
  {
   "cell_type": "code",
   "execution_count": 34,
   "metadata": {},
   "outputs": [
    {
     "data": {
      "text/html": [
       "<div>\n",
       "<style scoped>\n",
       "    .dataframe tbody tr th:only-of-type {\n",
       "        vertical-align: middle;\n",
       "    }\n",
       "\n",
       "    .dataframe tbody tr th {\n",
       "        vertical-align: top;\n",
       "    }\n",
       "\n",
       "    .dataframe thead th {\n",
       "        text-align: right;\n",
       "    }\n",
       "</style>\n",
       "<table border=\"1\" class=\"dataframe\">\n",
       "  <thead>\n",
       "    <tr style=\"text-align: right;\">\n",
       "      <th></th>\n",
       "      <th>innings</th>\n",
       "      <th>bat_number</th>\n",
       "    </tr>\n",
       "  </thead>\n",
       "  <tbody>\n",
       "    <tr>\n",
       "      <th>innings 1 - number 1</th>\n",
       "      <td>1</td>\n",
       "      <td>1</td>\n",
       "    </tr>\n",
       "    <tr>\n",
       "      <th>innings 2 - number - 3</th>\n",
       "      <td>2</td>\n",
       "      <td>3</td>\n",
       "    </tr>\n",
       "    <tr>\n",
       "      <th>innings 4 - number 10</th>\n",
       "      <td>4</td>\n",
       "      <td>10</td>\n",
       "    </tr>\n",
       "    <tr>\n",
       "      <th>cook - 3rd innings</th>\n",
       "      <td>3</td>\n",
       "      <td>1</td>\n",
       "    </tr>\n",
       "  </tbody>\n",
       "</table>\n",
       "</div>"
      ],
      "text/plain": [
       "                        innings  bat_number\n",
       "innings 1 - number 1          1           1\n",
       "innings 2 - number - 3        2           3\n",
       "innings 4 - number 10         4          10\n",
       "cook - 3rd innings            3           1"
      ]
     },
     "execution_count": 34,
     "metadata": {},
     "output_type": "execute_result"
    }
   ],
   "source": [
    "X = cox_data.drop(['runs', 'is_out'], axis=1)\n",
    "d = {'innings': [1, 2,4,3], 'bat_number': [1, 3,10,1]}\n",
    "test_cases=pd.DataFrame(data=d,index=['innings 1 - number 1','innings 2 - number - 3', 'innings 4 - number 10','cook - 3rd innings']);test_cases"
   ]
  },
  {
   "cell_type": "markdown",
   "metadata": {},
   "source": [
    "Predict for specific outcomes / scores"
   ]
  },
  {
   "cell_type": "code",
   "execution_count": 37,
   "metadata": {},
   "outputs": [
    {
     "data": {
      "text/plain": [
       "<matplotlib.axes._subplots.AxesSubplot at 0x113857160>"
      ]
     },
     "execution_count": 37,
     "metadata": {},
     "output_type": "execute_result"
    },
    {
     "data": {
      "image/png": "[encoded data removed]",
      "text/plain": [
       "<Figure size 432x288 with 1 Axes>"
      ]
     },
     "metadata": {},
     "output_type": "display_data"
    }
   ],
   "source": [
    "cox_predictions = cph.predict_survival_function(test_cases)\n",
    "cox_predictions.plot()"
   ]
  },
  {
   "cell_type": "markdown",
   "metadata": {},
   "source": [
    "### How likely was Cook to make a centruy at various stages?"
   ]
  },
  {
   "cell_type": "code",
   "execution_count": 67,
   "metadata": {},
   "outputs": [
    {
     "name": "stdout",
     "output_type": "stream",
     "text": [
      "Odds of century at score 0 - 14.6%\n",
      "Odds of century at score 50 - 33.7%\n",
      "Odds of century at score 72 - 50.1%\n",
      "Odds of century at score 90 - 72.7%\n"
     ]
    }
   ],
   "source": [
    "for curr_score in (0,50,72,90):\n",
    "    survival_odds = cox_predictions['cook - 3rd innings'][100-curr_score]\n",
    "    print('Odds of century at score {} - {:.1f}%'.format(curr_score,survival_odds*100))\n",
    "\n"
   ]
  },
  {
   "cell_type": "code",
   "execution_count": null,
   "metadata": {},
   "outputs": [],
   "source": []
  }
 ],
 "metadata": {
  "kernelspec": {
   "display_name": "Python 3",
   "language": "python",
   "name": "python3"
  },
  "language_info": {
   "codemirror_mode": {
    "name": "ipython",
    "version": 3
   },
   "file_extension": ".py",
   "mimetype": "text/x-python",
   "name": "python",
   "nbconvert_exporter": "python",
   "pygments_lexer": "ipython3",
   "version": "3.6.5"
  }
 },
 "nbformat": 4,
 "nbformat_minor": 2
}
